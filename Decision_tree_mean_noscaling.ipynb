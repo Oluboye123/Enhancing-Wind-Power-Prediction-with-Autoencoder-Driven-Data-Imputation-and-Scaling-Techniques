{
 "cells": [
  {
   "cell_type": "code",
   "execution_count": 1,
   "id": "f969911d-66c2-4e7d-8246-8da98af9b21c",
   "metadata": {},
   "outputs": [],
   "source": [
    "#import libraries\n",
    "import pandas as pd\n",
    "import numpy as np\n",
    "import math\n",
    "from math import sqrt\n",
    "import tensorflow as tf\n",
    "from matplotlib import pyplot as plt\n",
    "from keras.models import Model, load_model # for creating a Neural Network Autoencoder model\n",
    "from keras.layers import Dense # for adding layers to AE model\n",
    "from tensorflow.keras.utils import plot_model #for plotting  model charts\n",
    "from tensorflow.keras import models,layers,activations,losses,optimizers,metrics\n",
    "from sklearn.preprocessing import StandardScaler, MinMaxScaler,RobustScaler\n",
    "from keras import regularizers\n",
    "from sklearn.model_selection import train_test_split,cross_validate\n",
    "from sklearn.pipeline import Pipeline\n",
    "from sklearn.model_selection import cross_val_score\n",
    "from sklearn.linear_model import LogisticRegression\n",
    "from sklearn.metrics import mean_absolute_error, mean_squared_error\n",
    "from sklearn.pipeline import make_pipeline\n",
    "from sklearn.tree import DecisionTreeRegressor"
   ]
  },
  {
   "cell_type": "code",
   "execution_count": 2,
   "id": "6d41af81-3f38-452f-8e42-ae312b613b28",
   "metadata": {},
   "outputs": [],
   "source": [
    "#import preprocessed data\n",
    "train_data = pd.read_pickle(\"EDA_train_mean.pkl\")\n",
    "test_data = pd.read_pickle(\"EDA_test_mean.pkl\")"
   ]
  },
  {
   "cell_type": "code",
   "execution_count": 5,
   "id": "c889f4bd-6ce2-4caa-ba6c-2dc1e4fa5391",
   "metadata": {},
   "outputs": [],
   "source": [
    "#separate target variable \n",
    "y = train_data['windmill_generated_power(kW/h)']\n",
    "train_data.drop(['windmill_generated_power(kW/h)'], axis=1, inplace = True)"
   ]
  },
  {
   "cell_type": "code",
   "execution_count": 6,
   "id": "83e8be9f-d692-49d2-8568-66526d93d248",
   "metadata": {},
   "outputs": [
    {
     "data": {
      "text/plain": [
       "((21055, 33), (21055,), (7019, 33), (7019,))"
      ]
     },
     "execution_count": 6,
     "metadata": {},
     "output_type": "execute_result"
    }
   ],
   "source": [
    "#split dataset \n",
    "X_train, X_test, y_train, y_test = train_test_split(train_data, y, random_state=0)\n",
    "X_train.shape, y_train.shape, X_test.shape, y_test.shape"
   ]
  },
  {
   "cell_type": "code",
   "execution_count": 7,
   "id": "bce84bfe-dfbb-4fa2-addc-7f5d8a53242b",
   "metadata": {},
   "outputs": [],
   "source": [
    "# declare the steps in pipeline\n",
    "my_pipeline = Pipeline(steps = [('DecisionTreeRegressor',DecisionTreeRegressor(criterion='absolute_error'))])"
   ]
  },
  {
   "cell_type": "code",
   "execution_count": 8,
   "id": "1b4875b0-5df6-4da6-958b-45017eeb5b2d",
   "metadata": {},
   "outputs": [
    {
     "data": {
      "text/html": [
       "<style>#sk-container-id-1 {color: black;background-color: white;}#sk-container-id-1 pre{padding: 0;}#sk-container-id-1 div.sk-toggleable {background-color: white;}#sk-container-id-1 label.sk-toggleable__label {cursor: pointer;display: block;width: 100%;margin-bottom: 0;padding: 0.3em;box-sizing: border-box;text-align: center;}#sk-container-id-1 label.sk-toggleable__label-arrow:before {content: \"▸\";float: left;margin-right: 0.25em;color: #696969;}#sk-container-id-1 label.sk-toggleable__label-arrow:hover:before {color: black;}#sk-container-id-1 div.sk-estimator:hover label.sk-toggleable__label-arrow:before {color: black;}#sk-container-id-1 div.sk-toggleable__content {max-height: 0;max-width: 0;overflow: hidden;text-align: left;background-color: #f0f8ff;}#sk-container-id-1 div.sk-toggleable__content pre {margin: 0.2em;color: black;border-radius: 0.25em;background-color: #f0f8ff;}#sk-container-id-1 input.sk-toggleable__control:checked~div.sk-toggleable__content {max-height: 200px;max-width: 100%;overflow: auto;}#sk-container-id-1 input.sk-toggleable__control:checked~label.sk-toggleable__label-arrow:before {content: \"▾\";}#sk-container-id-1 div.sk-estimator input.sk-toggleable__control:checked~label.sk-toggleable__label {background-color: #d4ebff;}#sk-container-id-1 div.sk-label input.sk-toggleable__control:checked~label.sk-toggleable__label {background-color: #d4ebff;}#sk-container-id-1 input.sk-hidden--visually {border: 0;clip: rect(1px 1px 1px 1px);clip: rect(1px, 1px, 1px, 1px);height: 1px;margin: -1px;overflow: hidden;padding: 0;position: absolute;width: 1px;}#sk-container-id-1 div.sk-estimator {font-family: monospace;background-color: #f0f8ff;border: 1px dotted black;border-radius: 0.25em;box-sizing: border-box;margin-bottom: 0.5em;}#sk-container-id-1 div.sk-estimator:hover {background-color: #d4ebff;}#sk-container-id-1 div.sk-parallel-item::after {content: \"\";width: 100%;border-bottom: 1px solid gray;flex-grow: 1;}#sk-container-id-1 div.sk-label:hover label.sk-toggleable__label {background-color: #d4ebff;}#sk-container-id-1 div.sk-serial::before {content: \"\";position: absolute;border-left: 1px solid gray;box-sizing: border-box;top: 0;bottom: 0;left: 50%;z-index: 0;}#sk-container-id-1 div.sk-serial {display: flex;flex-direction: column;align-items: center;background-color: white;padding-right: 0.2em;padding-left: 0.2em;position: relative;}#sk-container-id-1 div.sk-item {position: relative;z-index: 1;}#sk-container-id-1 div.sk-parallel {display: flex;align-items: stretch;justify-content: center;background-color: white;position: relative;}#sk-container-id-1 div.sk-item::before, #sk-container-id-1 div.sk-parallel-item::before {content: \"\";position: absolute;border-left: 1px solid gray;box-sizing: border-box;top: 0;bottom: 0;left: 50%;z-index: -1;}#sk-container-id-1 div.sk-parallel-item {display: flex;flex-direction: column;z-index: 1;position: relative;background-color: white;}#sk-container-id-1 div.sk-parallel-item:first-child::after {align-self: flex-end;width: 50%;}#sk-container-id-1 div.sk-parallel-item:last-child::after {align-self: flex-start;width: 50%;}#sk-container-id-1 div.sk-parallel-item:only-child::after {width: 0;}#sk-container-id-1 div.sk-dashed-wrapped {border: 1px dashed gray;margin: 0 0.4em 0.5em 0.4em;box-sizing: border-box;padding-bottom: 0.4em;background-color: white;}#sk-container-id-1 div.sk-label label {font-family: monospace;font-weight: bold;display: inline-block;line-height: 1.2em;}#sk-container-id-1 div.sk-label-container {text-align: center;}#sk-container-id-1 div.sk-container {/* jupyter's `normalize.less` sets `[hidden] { display: none; }` but bootstrap.min.css set `[hidden] { display: none !important; }` so we also need the `!important` here to be able to override the default hidden behavior on the sphinx rendered scikit-learn.org. See: https://github.com/scikit-learn/scikit-learn/issues/21755 */display: inline-block !important;position: relative;}#sk-container-id-1 div.sk-text-repr-fallback {display: none;}</style><div id=\"sk-container-id-1\" class=\"sk-top-container\"><div class=\"sk-text-repr-fallback\"><pre>Pipeline(steps=[(&#x27;DecisionTreeRegressor&#x27;,\n",
       "                 DecisionTreeRegressor(criterion=&#x27;absolute_error&#x27;))])</pre><b>In a Jupyter environment, please rerun this cell to show the HTML representation or trust the notebook. <br />On GitHub, the HTML representation is unable to render, please try loading this page with nbviewer.org.</b></div><div class=\"sk-container\" hidden><div class=\"sk-item sk-dashed-wrapped\"><div class=\"sk-label-container\"><div class=\"sk-label sk-toggleable\"><input class=\"sk-toggleable__control sk-hidden--visually\" id=\"sk-estimator-id-1\" type=\"checkbox\" ><label for=\"sk-estimator-id-1\" class=\"sk-toggleable__label sk-toggleable__label-arrow\">Pipeline</label><div class=\"sk-toggleable__content\"><pre>Pipeline(steps=[(&#x27;DecisionTreeRegressor&#x27;,\n",
       "                 DecisionTreeRegressor(criterion=&#x27;absolute_error&#x27;))])</pre></div></div></div><div class=\"sk-serial\"><div class=\"sk-item\"><div class=\"sk-estimator sk-toggleable\"><input class=\"sk-toggleable__control sk-hidden--visually\" id=\"sk-estimator-id-2\" type=\"checkbox\" ><label for=\"sk-estimator-id-2\" class=\"sk-toggleable__label sk-toggleable__label-arrow\">DecisionTreeRegressor</label><div class=\"sk-toggleable__content\"><pre>DecisionTreeRegressor(criterion=&#x27;absolute_error&#x27;)</pre></div></div></div></div></div></div></div>"
      ],
      "text/plain": [
       "Pipeline(steps=[('DecisionTreeRegressor',\n",
       "                 DecisionTreeRegressor(criterion='absolute_error'))])"
      ]
     },
     "execution_count": 8,
     "metadata": {},
     "output_type": "execute_result"
    }
   ],
   "source": [
    "# fit the pipeline to our training data\n",
    "my_pipeline.fit(X_train, y_train)"
   ]
  },
  {
   "cell_type": "markdown",
   "id": "d6ad9313-69ef-4d8c-94a1-cc3c52dc5e08",
   "metadata": {},
   "source": [
    "### Cross Validation and Mean absolute error"
   ]
  },
  {
   "cell_type": "code",
   "execution_count": 9,
   "id": "80e94aae-3e24-4373-932a-a23f29418f72",
   "metadata": {},
   "outputs": [],
   "source": [
    "# Use cross-validation to estimate the performance of the pipeline\n",
    "cvs = cross_val_score(my_pipeline, X_train, y_train, cv=5,scoring='neg_mean_absolute_error')\n",
    "scores_cvs = -1 * cvs"
   ]
  },
  {
   "cell_type": "code",
   "execution_count": 10,
   "id": "ad9e9e59-91a9-4564-b1b4-62f45a31e51f",
   "metadata": {},
   "outputs": [
    {
     "name": "stdout",
     "output_type": "stream",
     "text": [
      "MAE scores:\n",
      " [0.80526604 0.77287717 0.81616589 0.85125109 0.78320575]\n",
      "Average MAE score: 0.8057531871569793\n"
     ]
    }
   ],
   "source": [
    "#mae\n",
    "print(\"MAE scores:\\n\", scores_cvs)\n",
    "print('Average MAE score:', scores_cvs.mean())"
   ]
  },
  {
   "cell_type": "markdown",
   "id": "e3b23b2b-d188-4924-b79d-975fb80136dc",
   "metadata": {},
   "source": [
    "### Root mean squared error"
   ]
  },
  {
   "cell_type": "code",
   "execution_count": 11,
   "id": "0888ed03-7f74-477b-8dff-8f705c5f599a",
   "metadata": {},
   "outputs": [],
   "source": [
    "# Use cross-validation to estimate the performance of the pipeline\n",
    "cvs_rmse = cross_val_score(my_pipeline, X_train, y_train, cv=5,scoring='neg_root_mean_squared_error')\n",
    "scores_cvs_rmse = -1 * cvs_rmse"
   ]
  },
  {
   "cell_type": "code",
   "execution_count": 12,
   "id": "0f277a62-aba8-4a9d-99e6-892c092a8bef",
   "metadata": {},
   "outputs": [
    {
     "name": "stdout",
     "output_type": "stream",
     "text": [
      "RMSE scores:\n",
      " [1.39308483 1.36469455 1.40412576 1.55047836 1.38163245]\n",
      "Average RMSE score: 1.4188031870003717\n"
     ]
    }
   ],
   "source": [
    "#RMSE\n",
    "print(\"RMSE scores:\\n\", scores_cvs_rmse)\n",
    "print('Average RMSE score:',scores_cvs_rmse.mean())"
   ]
  },
  {
   "cell_type": "markdown",
   "id": "5966362d-bdfb-435a-9599-43566af917a3",
   "metadata": {},
   "source": [
    "### Mean squared error "
   ]
  },
  {
   "cell_type": "code",
   "execution_count": 13,
   "id": "4246cead-0073-40cf-844c-792da15377a1",
   "metadata": {},
   "outputs": [],
   "source": [
    "# Use cross-validation to estimate the performance of the pipeline\n",
    "cvs_mse = cross_val_score(my_pipeline, X_train, y_train, cv=5,scoring='neg_mean_squared_error')\n",
    "scores_cvs_mse = -1 * cvs_mse"
   ]
  },
  {
   "cell_type": "code",
   "execution_count": 14,
   "id": "4fdfd480-eba0-4415-b50d-5e4a0e5ee781",
   "metadata": {},
   "outputs": [
    {
     "name": "stdout",
     "output_type": "stream",
     "text": [
      "MSE scores:\n",
      " [2.05174796 1.80780665 2.03988524 2.40134712 1.84950435]\n",
      "Average MSE score: 2.030058262790908\n"
     ]
    }
   ],
   "source": [
    "#MSE\n",
    "print(\"MSE scores:\\n\", scores_cvs_mse)\n",
    "print('Average MSE score:',scores_cvs_mse.mean())"
   ]
  },
  {
   "cell_type": "markdown",
   "id": "59bea7cb-c73c-4fc4-a142-ade678ad0343",
   "metadata": {},
   "source": [
    "### Testing "
   ]
  },
  {
   "cell_type": "code",
   "execution_count": 15,
   "id": "9aa0d434-2c85-4ad7-a27a-090995a5a331",
   "metadata": {},
   "outputs": [],
   "source": [
    "#test prediction\n",
    "preds_test = my_pipeline.predict(X_test)"
   ]
  },
  {
   "cell_type": "code",
   "execution_count": 16,
   "id": "8d7eaa9e-52f8-412a-bf8a-ad02a17cc3e5",
   "metadata": {},
   "outputs": [
    {
     "name": "stdout",
     "output_type": "stream",
     "text": [
      "MAE is: 0.7753560305743317\n"
     ]
    }
   ],
   "source": [
    "#test mae\n",
    "score_mae = mean_absolute_error(y_test,preds_test)\n",
    "print('MAE is:',score_mae)"
   ]
  },
  {
   "cell_type": "code",
   "execution_count": 17,
   "id": "27413ee5-3912-4755-9fd2-0192e286d193",
   "metadata": {},
   "outputs": [
    {
     "name": "stdout",
     "output_type": "stream",
     "text": [
      "MSE is: 1.7739353769875201\n"
     ]
    }
   ],
   "source": [
    "#test mse\n",
    "score_mse = mean_squared_error(y_test,preds_test)\n",
    "print('MSE is:',score_mse)"
   ]
  },
  {
   "cell_type": "code",
   "execution_count": 18,
   "id": "35836f2d-562a-405d-8959-f8287869ad2e",
   "metadata": {},
   "outputs": [
    {
     "name": "stdout",
     "output_type": "stream",
     "text": [
      "RMSE is: 1.3318916536218404\n"
     ]
    }
   ],
   "source": [
    "#test rmse\n",
    "score_rmse= np.sqrt(mean_squared_error(y_test,preds_test))\n",
    "print('RMSE is:',score_rmse)"
   ]
  },
  {
   "cell_type": "markdown",
   "id": "902ef82f-5ee1-48bd-90a9-47e6283e41e5",
   "metadata": {},
   "source": [
    "### Testing the pipeline on the whole data and target variable"
   ]
  },
  {
   "cell_type": "code",
   "execution_count": 19,
   "id": "4c2be636-8125-47f8-a8ee-9b1d7e3b89d0",
   "metadata": {},
   "outputs": [
    {
     "name": "stdout",
     "output_type": "stream",
     "text": [
      "MAE scores:\n",
      " [0.77721433 0.7991053  0.78366766 0.79905043 0.78527727]\n",
      "Average MAE score: 0.7888629966719585\n"
     ]
    }
   ],
   "source": [
    "# Multiply by -1 since sklearn calculates *negative* MAE\n",
    "scores_cv = -1 * cross_val_score(my_pipeline, train_data, y, cv=5, scoring='neg_mean_absolute_error')\n",
    "print(\"MAE scores:\\n\", scores_cv)\n",
    "print('Average MAE score:',scores_cv.mean())"
   ]
  }
 ],
 "metadata": {
  "kernelspec": {
   "display_name": "Python 3 (ipykernel)",
   "language": "python",
   "name": "python3"
  },
  "language_info": {
   "codemirror_mode": {
    "name": "ipython",
    "version": 3
   },
   "file_extension": ".py",
   "mimetype": "text/x-python",
   "name": "python",
   "nbconvert_exporter": "python",
   "pygments_lexer": "ipython3",
   "version": "3.9.12"
  }
 },
 "nbformat": 4,
 "nbformat_minor": 5
}
