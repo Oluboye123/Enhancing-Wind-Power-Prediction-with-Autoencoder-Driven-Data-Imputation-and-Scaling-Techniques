{
 "cells": [
  {
   "cell_type": "markdown",
   "id": "6b56458b-7ac6-4430-b0a8-7b44aaf98bca",
   "metadata": {},
   "source": [
    "### Import libraries"
   ]
  },
  {
   "cell_type": "code",
   "execution_count": null,
   "id": "47b3647b-0ba1-45ee-a346-6f6aad4ac0c5",
   "metadata": {},
   "outputs": [],
   "source": [
    "import pandas as pd\n",
    "import numpy as np\n",
    "import math\n",
    "from math import sqrt\n",
    "import tensorflow as tf\n",
    "from matplotlib import pyplot as plt\n",
    "from keras.models import Model, load_model # for creating a Neural Network Autoencoder model\n",
    "from keras.layers import Dense # for adding layers to AE model\n",
    "from tensorflow.keras.utils import plot_model #for plotting  model charts\n",
    "from tensorflow.keras import models,layers,activations,losses,optimizers,metrics\n",
    "from sklearn.preprocessing import StandardScaler, MinMaxScaler,RobustScaler\n",
    "from keras import regularizers\n",
    "from sklearn.model_selection import train_test_split,cross_validate\n",
    "from sklearn.pipeline import Pipeline\n",
    "from sklearn.model_selection import cross_val_score\n",
    "from sklearn.linear_model import LogisticRegression\n",
    "from sklearn.metrics import mean_absolute_error, mean_squared_error\n",
    "from sklearn.pipeline import make_pipeline\n",
    "from sklearn.tree import DecisionTreeRegressor"
   ]
  },
  {
   "cell_type": "code",
   "execution_count": 2,
   "id": "6d41af81-3f38-452f-8e42-ae312b613b28",
   "metadata": {},
   "outputs": [],
   "source": [
    "#load data\n",
    "train_data = pd.read_pickle(\"EDA_train_median.pkl\")\n",
    "test_data = pd.read_pickle(\"EDA_test_median.pkl\")"
   ]
  },
  {
   "cell_type": "code",
   "execution_count": 5,
   "id": "c889f4bd-6ce2-4caa-ba6c-2dc1e4fa5391",
   "metadata": {},
   "outputs": [],
   "source": [
    "#separate target variable\n",
    "y = train_data['windmill_generated_power(kW/h)']\n",
    "train_data.drop(['windmill_generated_power(kW/h)'], axis=1, inplace = True)"
   ]
  },
  {
   "cell_type": "code",
   "execution_count": 6,
   "id": "83e8be9f-d692-49d2-8568-66526d93d248",
   "metadata": {},
   "outputs": [
    {
     "data": {
      "text/plain": [
       "((21051, 33), (21051,), (7018, 33), (7018,))"
      ]
     },
     "execution_count": 6,
     "metadata": {},
     "output_type": "execute_result"
    }
   ],
   "source": [
    "#split dataset \n",
    "X_train, X_test, y_train, y_test = train_test_split(train_data, y, random_state=0)\n",
    "X_train.shape, y_train.shape, X_test.shape, y_test.shape"
   ]
  },
  {
   "cell_type": "markdown",
   "id": "626ddb5b-1392-4331-b51a-9d38a3cca74f",
   "metadata": {},
   "source": [
    "### DECISION USING MINMAX SCALER"
   ]
  },
  {
   "cell_type": "code",
   "execution_count": 7,
   "id": "bce84bfe-dfbb-4fa2-addc-7f5d8a53242b",
   "metadata": {},
   "outputs": [],
   "source": [
    "# declare the steps in our pipeline\n",
    "my_pipeline_minmax = Pipeline(steps = [('MinMaxScaler', MinMaxScaler()),\n",
    "                      ('DecisionTreeRegressor',DecisionTreeRegressor(criterion='absolute_error'))])"
   ]
  },
  {
   "cell_type": "code",
   "execution_count": 8,
   "id": "1b4875b0-5df6-4da6-958b-45017eeb5b2d",
   "metadata": {},
   "outputs": [
    {
     "data": {
      "text/html": [
       "<style>#sk-container-id-1 {color: black;background-color: white;}#sk-container-id-1 pre{padding: 0;}#sk-container-id-1 div.sk-toggleable {background-color: white;}#sk-container-id-1 label.sk-toggleable__label {cursor: pointer;display: block;width: 100%;margin-bottom: 0;padding: 0.3em;box-sizing: border-box;text-align: center;}#sk-container-id-1 label.sk-toggleable__label-arrow:before {content: \"▸\";float: left;margin-right: 0.25em;color: #696969;}#sk-container-id-1 label.sk-toggleable__label-arrow:hover:before {color: black;}#sk-container-id-1 div.sk-estimator:hover label.sk-toggleable__label-arrow:before {color: black;}#sk-container-id-1 div.sk-toggleable__content {max-height: 0;max-width: 0;overflow: hidden;text-align: left;background-color: #f0f8ff;}#sk-container-id-1 div.sk-toggleable__content pre {margin: 0.2em;color: black;border-radius: 0.25em;background-color: #f0f8ff;}#sk-container-id-1 input.sk-toggleable__control:checked~div.sk-toggleable__content {max-height: 200px;max-width: 100%;overflow: auto;}#sk-container-id-1 input.sk-toggleable__control:checked~label.sk-toggleable__label-arrow:before {content: \"▾\";}#sk-container-id-1 div.sk-estimator input.sk-toggleable__control:checked~label.sk-toggleable__label {background-color: #d4ebff;}#sk-container-id-1 div.sk-label input.sk-toggleable__control:checked~label.sk-toggleable__label {background-color: #d4ebff;}#sk-container-id-1 input.sk-hidden--visually {border: 0;clip: rect(1px 1px 1px 1px);clip: rect(1px, 1px, 1px, 1px);height: 1px;margin: -1px;overflow: hidden;padding: 0;position: absolute;width: 1px;}#sk-container-id-1 div.sk-estimator {font-family: monospace;background-color: #f0f8ff;border: 1px dotted black;border-radius: 0.25em;box-sizing: border-box;margin-bottom: 0.5em;}#sk-container-id-1 div.sk-estimator:hover {background-color: #d4ebff;}#sk-container-id-1 div.sk-parallel-item::after {content: \"\";width: 100%;border-bottom: 1px solid gray;flex-grow: 1;}#sk-container-id-1 div.sk-label:hover label.sk-toggleable__label {background-color: #d4ebff;}#sk-container-id-1 div.sk-serial::before {content: \"\";position: absolute;border-left: 1px solid gray;box-sizing: border-box;top: 0;bottom: 0;left: 50%;z-index: 0;}#sk-container-id-1 div.sk-serial {display: flex;flex-direction: column;align-items: center;background-color: white;padding-right: 0.2em;padding-left: 0.2em;position: relative;}#sk-container-id-1 div.sk-item {position: relative;z-index: 1;}#sk-container-id-1 div.sk-parallel {display: flex;align-items: stretch;justify-content: center;background-color: white;position: relative;}#sk-container-id-1 div.sk-item::before, #sk-container-id-1 div.sk-parallel-item::before {content: \"\";position: absolute;border-left: 1px solid gray;box-sizing: border-box;top: 0;bottom: 0;left: 50%;z-index: -1;}#sk-container-id-1 div.sk-parallel-item {display: flex;flex-direction: column;z-index: 1;position: relative;background-color: white;}#sk-container-id-1 div.sk-parallel-item:first-child::after {align-self: flex-end;width: 50%;}#sk-container-id-1 div.sk-parallel-item:last-child::after {align-self: flex-start;width: 50%;}#sk-container-id-1 div.sk-parallel-item:only-child::after {width: 0;}#sk-container-id-1 div.sk-dashed-wrapped {border: 1px dashed gray;margin: 0 0.4em 0.5em 0.4em;box-sizing: border-box;padding-bottom: 0.4em;background-color: white;}#sk-container-id-1 div.sk-label label {font-family: monospace;font-weight: bold;display: inline-block;line-height: 1.2em;}#sk-container-id-1 div.sk-label-container {text-align: center;}#sk-container-id-1 div.sk-container {/* jupyter's `normalize.less` sets `[hidden] { display: none; }` but bootstrap.min.css set `[hidden] { display: none !important; }` so we also need the `!important` here to be able to override the default hidden behavior on the sphinx rendered scikit-learn.org. See: https://github.com/scikit-learn/scikit-learn/issues/21755 */display: inline-block !important;position: relative;}#sk-container-id-1 div.sk-text-repr-fallback {display: none;}</style><div id=\"sk-container-id-1\" class=\"sk-top-container\"><div class=\"sk-text-repr-fallback\"><pre>Pipeline(steps=[(&#x27;MinMaxScaler&#x27;, MinMaxScaler()),\n",
       "                (&#x27;DecisionTreeRegressor&#x27;,\n",
       "                 DecisionTreeRegressor(criterion=&#x27;absolute_error&#x27;))])</pre><b>In a Jupyter environment, please rerun this cell to show the HTML representation or trust the notebook. <br />On GitHub, the HTML representation is unable to render, please try loading this page with nbviewer.org.</b></div><div class=\"sk-container\" hidden><div class=\"sk-item sk-dashed-wrapped\"><div class=\"sk-label-container\"><div class=\"sk-label sk-toggleable\"><input class=\"sk-toggleable__control sk-hidden--visually\" id=\"sk-estimator-id-1\" type=\"checkbox\" ><label for=\"sk-estimator-id-1\" class=\"sk-toggleable__label sk-toggleable__label-arrow\">Pipeline</label><div class=\"sk-toggleable__content\"><pre>Pipeline(steps=[(&#x27;MinMaxScaler&#x27;, MinMaxScaler()),\n",
       "                (&#x27;DecisionTreeRegressor&#x27;,\n",
       "                 DecisionTreeRegressor(criterion=&#x27;absolute_error&#x27;))])</pre></div></div></div><div class=\"sk-serial\"><div class=\"sk-item\"><div class=\"sk-estimator sk-toggleable\"><input class=\"sk-toggleable__control sk-hidden--visually\" id=\"sk-estimator-id-2\" type=\"checkbox\" ><label for=\"sk-estimator-id-2\" class=\"sk-toggleable__label sk-toggleable__label-arrow\">MinMaxScaler</label><div class=\"sk-toggleable__content\"><pre>MinMaxScaler()</pre></div></div></div><div class=\"sk-item\"><div class=\"sk-estimator sk-toggleable\"><input class=\"sk-toggleable__control sk-hidden--visually\" id=\"sk-estimator-id-3\" type=\"checkbox\" ><label for=\"sk-estimator-id-3\" class=\"sk-toggleable__label sk-toggleable__label-arrow\">DecisionTreeRegressor</label><div class=\"sk-toggleable__content\"><pre>DecisionTreeRegressor(criterion=&#x27;absolute_error&#x27;)</pre></div></div></div></div></div></div></div>"
      ],
      "text/plain": [
       "Pipeline(steps=[('MinMaxScaler', MinMaxScaler()),\n",
       "                ('DecisionTreeRegressor',\n",
       "                 DecisionTreeRegressor(criterion='absolute_error'))])"
      ]
     },
     "execution_count": 8,
     "metadata": {},
     "output_type": "execute_result"
    }
   ],
   "source": [
    "# fit the pipeline to our training data\n",
    "my_pipeline_minmax.fit(X_train, y_train)"
   ]
  },
  {
   "cell_type": "markdown",
   "id": "d6ad9313-69ef-4d8c-94a1-cc3c52dc5e08",
   "metadata": {},
   "source": [
    "### Mean absolute error"
   ]
  },
  {
   "cell_type": "code",
   "execution_count": 9,
   "id": "80e94aae-3e24-4373-932a-a23f29418f72",
   "metadata": {},
   "outputs": [],
   "source": [
    "# Use cross-validation to estimate the performance of the pipeline\n",
    "cvs_mae = cross_val_score(my_pipeline_minmax, X_train, y_train, cv=5,scoring='neg_mean_absolute_error')\n",
    "scores_cvs_mae = -1 * cvs_mae"
   ]
  },
  {
   "cell_type": "code",
   "execution_count": 10,
   "id": "ad9e9e59-91a9-4564-b1b4-62f45a31e51f",
   "metadata": {},
   "outputs": [
    {
     "name": "stdout",
     "output_type": "stream",
     "text": [
      "MAE scores:\n",
      " [0.79876321 0.7754185  0.78904985 0.80449068 0.82413103]\n",
      "Average MAE score: 0.798370652479516\n"
     ]
    }
   ],
   "source": [
    "print(\"MAE scores:\\n\", scores_cvs_mae)\n",
    "print('Average MAE score:', scores_cvs_mae.mean())"
   ]
  },
  {
   "cell_type": "markdown",
   "id": "e3b23b2b-d188-4924-b79d-975fb80136dc",
   "metadata": {},
   "source": [
    "### Root mean squared error"
   ]
  },
  {
   "cell_type": "code",
   "execution_count": 11,
   "id": "0888ed03-7f74-477b-8dff-8f705c5f599a",
   "metadata": {},
   "outputs": [],
   "source": [
    "# Use cross-validation to estimate the performance of the pipeline\n",
    "#AT CV = 5\n",
    "cvs_rmse = cross_val_score(my_pipeline_minmax, X_train, y_train, cv=5,scoring='neg_root_mean_squared_error')\n",
    "scores_cvs_rmse = -1 * cvs_rmse"
   ]
  },
  {
   "cell_type": "code",
   "execution_count": 12,
   "id": "0f277a62-aba8-4a9d-99e6-892c092a8bef",
   "metadata": {},
   "outputs": [
    {
     "name": "stdout",
     "output_type": "stream",
     "text": [
      "RMSE scores:\n",
      " [1.34480482 1.36617817 1.3755875  1.40480126 1.45580512]\n",
      "Average RMSE score: 1.3894353729714892\n"
     ]
    }
   ],
   "source": [
    "print(\"RMSE scores:\\n\", scores_cvs_rmse)\n",
    "print('Average RMSE score:',scores_cvs_rmse.mean())"
   ]
  },
  {
   "cell_type": "markdown",
   "id": "5966362d-bdfb-435a-9599-43566af917a3",
   "metadata": {},
   "source": [
    "### Mean squared error "
   ]
  },
  {
   "cell_type": "code",
   "execution_count": 13,
   "id": "4246cead-0073-40cf-844c-792da15377a1",
   "metadata": {},
   "outputs": [],
   "source": [
    "# Use cross-validation to estimate the performance of the pipeline\n",
    "#AT CV = 5\n",
    "cvs_mse = cross_val_score(my_pipeline_minmax, X_train, y_train, cv=5,scoring='neg_mean_squared_error')\n",
    "scores_cvs_mse = -1 * cvs_mse"
   ]
  },
  {
   "cell_type": "code",
   "execution_count": 14,
   "id": "4fdfd480-eba0-4415-b50d-5e4a0e5ee781",
   "metadata": {},
   "outputs": [
    {
     "name": "stdout",
     "output_type": "stream",
     "text": [
      "MSE scores:\n",
      " [2.13115305 1.8919114  1.89892491 1.93454582 2.11623082]\n",
      "Average MSE score: 1.994553197524482\n"
     ]
    }
   ],
   "source": [
    "print(\"MSE scores:\\n\", scores_cvs_mse)\n",
    "print('Average MSE score:',scores_cvs_mse.mean())"
   ]
  },
  {
   "cell_type": "markdown",
   "id": "59bea7cb-c73c-4fc4-a142-ade678ad0343",
   "metadata": {},
   "source": [
    "### Testing "
   ]
  },
  {
   "cell_type": "code",
   "execution_count": 15,
   "id": "9aa0d434-2c85-4ad7-a27a-090995a5a331",
   "metadata": {},
   "outputs": [],
   "source": [
    "#test prediction\n",
    "preds_test_minmax = my_pipeline_minmax.predict(X_test)"
   ]
  },
  {
   "cell_type": "code",
   "execution_count": 16,
   "id": "8d7eaa9e-52f8-412a-bf8a-ad02a17cc3e5",
   "metadata": {},
   "outputs": [
    {
     "name": "stdout",
     "output_type": "stream",
     "text": [
      "MAE is: 0.7779364022472891\n"
     ]
    }
   ],
   "source": [
    "#test mae\n",
    "score_minmax_mae = mean_absolute_error(y_test,preds_test_minmax)\n",
    "print('MAE is:',score_minmax_mae)"
   ]
  },
  {
   "cell_type": "code",
   "execution_count": 17,
   "id": "27413ee5-3912-4755-9fd2-0192e286d193",
   "metadata": {},
   "outputs": [
    {
     "name": "stdout",
     "output_type": "stream",
     "text": [
      "MSE is: 1.893509096022794\n"
     ]
    }
   ],
   "source": [
    "#test mse\n",
    "score_minmax_mse= mean_squared_error(y_test,preds_test_minmax)\n",
    "print('MSE is:',score_minmax_mse)"
   ]
  },
  {
   "cell_type": "code",
   "execution_count": 18,
   "id": "35836f2d-562a-405d-8959-f8287869ad2e",
   "metadata": {},
   "outputs": [
    {
     "name": "stdout",
     "output_type": "stream",
     "text": [
      "RMSE is: 1.3760483625304722\n"
     ]
    }
   ],
   "source": [
    "#test rmse\n",
    "score_minmax_rmse= np.sqrt(mean_squared_error(y_test,preds_test_minmax))\n",
    "print('RMSE is:',score_minmax_rmse)"
   ]
  },
  {
   "cell_type": "code",
   "execution_count": 19,
   "id": "4c2be636-8125-47f8-a8ee-9b1d7e3b89d0",
   "metadata": {},
   "outputs": [
    {
     "name": "stdout",
     "output_type": "stream",
     "text": [
      "MAE scores:\n",
      " [0.7890515  0.75997452 0.7874278  0.79679993 0.77372722]\n",
      "Average MAE score: 0.7813961945045088\n"
     ]
    }
   ],
   "source": [
    "# Multiply by -1 since sklearn calculates *negative* MAE\n",
    "scores_minmax_cv = -1 * cross_val_score(my_pipeline_minmax, train_data, y, cv=5, scoring='neg_mean_absolute_error')\n",
    "print(\"MAE scores:\\n\", scores_minmax_cv)\n",
    "print('Average MAE score:',scores_minmax_cv.mean())"
   ]
  },
  {
   "cell_type": "markdown",
   "id": "7235e0c4-9ee7-4f10-8143-a88d26291045",
   "metadata": {},
   "source": [
    "### DECISION TREE USING STANDARD SCALER"
   ]
  },
  {
   "cell_type": "code",
   "execution_count": 20,
   "id": "23f415e9-ff0e-49db-8924-277f7c079bb8",
   "metadata": {},
   "outputs": [],
   "source": [
    "# declare the steps in our pipeline\n",
    "my_pipeline_standard = Pipeline([('StandardScaler', StandardScaler()),\n",
    "                      ('DecisionTreeRegressor',DecisionTreeRegressor())])"
   ]
  },
  {
   "cell_type": "code",
   "execution_count": 21,
   "id": "494d1559-90a1-46e3-95e4-0c2c8acb3c89",
   "metadata": {},
   "outputs": [
    {
     "data": {
      "text/html": [
       "<style>#sk-container-id-2 {color: black;background-color: white;}#sk-container-id-2 pre{padding: 0;}#sk-container-id-2 div.sk-toggleable {background-color: white;}#sk-container-id-2 label.sk-toggleable__label {cursor: pointer;display: block;width: 100%;margin-bottom: 0;padding: 0.3em;box-sizing: border-box;text-align: center;}#sk-container-id-2 label.sk-toggleable__label-arrow:before {content: \"▸\";float: left;margin-right: 0.25em;color: #696969;}#sk-container-id-2 label.sk-toggleable__label-arrow:hover:before {color: black;}#sk-container-id-2 div.sk-estimator:hover label.sk-toggleable__label-arrow:before {color: black;}#sk-container-id-2 div.sk-toggleable__content {max-height: 0;max-width: 0;overflow: hidden;text-align: left;background-color: #f0f8ff;}#sk-container-id-2 div.sk-toggleable__content pre {margin: 0.2em;color: black;border-radius: 0.25em;background-color: #f0f8ff;}#sk-container-id-2 input.sk-toggleable__control:checked~div.sk-toggleable__content {max-height: 200px;max-width: 100%;overflow: auto;}#sk-container-id-2 input.sk-toggleable__control:checked~label.sk-toggleable__label-arrow:before {content: \"▾\";}#sk-container-id-2 div.sk-estimator input.sk-toggleable__control:checked~label.sk-toggleable__label {background-color: #d4ebff;}#sk-container-id-2 div.sk-label input.sk-toggleable__control:checked~label.sk-toggleable__label {background-color: #d4ebff;}#sk-container-id-2 input.sk-hidden--visually {border: 0;clip: rect(1px 1px 1px 1px);clip: rect(1px, 1px, 1px, 1px);height: 1px;margin: -1px;overflow: hidden;padding: 0;position: absolute;width: 1px;}#sk-container-id-2 div.sk-estimator {font-family: monospace;background-color: #f0f8ff;border: 1px dotted black;border-radius: 0.25em;box-sizing: border-box;margin-bottom: 0.5em;}#sk-container-id-2 div.sk-estimator:hover {background-color: #d4ebff;}#sk-container-id-2 div.sk-parallel-item::after {content: \"\";width: 100%;border-bottom: 1px solid gray;flex-grow: 1;}#sk-container-id-2 div.sk-label:hover label.sk-toggleable__label {background-color: #d4ebff;}#sk-container-id-2 div.sk-serial::before {content: \"\";position: absolute;border-left: 1px solid gray;box-sizing: border-box;top: 0;bottom: 0;left: 50%;z-index: 0;}#sk-container-id-2 div.sk-serial {display: flex;flex-direction: column;align-items: center;background-color: white;padding-right: 0.2em;padding-left: 0.2em;position: relative;}#sk-container-id-2 div.sk-item {position: relative;z-index: 1;}#sk-container-id-2 div.sk-parallel {display: flex;align-items: stretch;justify-content: center;background-color: white;position: relative;}#sk-container-id-2 div.sk-item::before, #sk-container-id-2 div.sk-parallel-item::before {content: \"\";position: absolute;border-left: 1px solid gray;box-sizing: border-box;top: 0;bottom: 0;left: 50%;z-index: -1;}#sk-container-id-2 div.sk-parallel-item {display: flex;flex-direction: column;z-index: 1;position: relative;background-color: white;}#sk-container-id-2 div.sk-parallel-item:first-child::after {align-self: flex-end;width: 50%;}#sk-container-id-2 div.sk-parallel-item:last-child::after {align-self: flex-start;width: 50%;}#sk-container-id-2 div.sk-parallel-item:only-child::after {width: 0;}#sk-container-id-2 div.sk-dashed-wrapped {border: 1px dashed gray;margin: 0 0.4em 0.5em 0.4em;box-sizing: border-box;padding-bottom: 0.4em;background-color: white;}#sk-container-id-2 div.sk-label label {font-family: monospace;font-weight: bold;display: inline-block;line-height: 1.2em;}#sk-container-id-2 div.sk-label-container {text-align: center;}#sk-container-id-2 div.sk-container {/* jupyter's `normalize.less` sets `[hidden] { display: none; }` but bootstrap.min.css set `[hidden] { display: none !important; }` so we also need the `!important` here to be able to override the default hidden behavior on the sphinx rendered scikit-learn.org. See: https://github.com/scikit-learn/scikit-learn/issues/21755 */display: inline-block !important;position: relative;}#sk-container-id-2 div.sk-text-repr-fallback {display: none;}</style><div id=\"sk-container-id-2\" class=\"sk-top-container\"><div class=\"sk-text-repr-fallback\"><pre>Pipeline(steps=[(&#x27;StandardScaler&#x27;, StandardScaler()),\n",
       "                (&#x27;DecisionTreeRegressor&#x27;, DecisionTreeRegressor())])</pre><b>In a Jupyter environment, please rerun this cell to show the HTML representation or trust the notebook. <br />On GitHub, the HTML representation is unable to render, please try loading this page with nbviewer.org.</b></div><div class=\"sk-container\" hidden><div class=\"sk-item sk-dashed-wrapped\"><div class=\"sk-label-container\"><div class=\"sk-label sk-toggleable\"><input class=\"sk-toggleable__control sk-hidden--visually\" id=\"sk-estimator-id-4\" type=\"checkbox\" ><label for=\"sk-estimator-id-4\" class=\"sk-toggleable__label sk-toggleable__label-arrow\">Pipeline</label><div class=\"sk-toggleable__content\"><pre>Pipeline(steps=[(&#x27;StandardScaler&#x27;, StandardScaler()),\n",
       "                (&#x27;DecisionTreeRegressor&#x27;, DecisionTreeRegressor())])</pre></div></div></div><div class=\"sk-serial\"><div class=\"sk-item\"><div class=\"sk-estimator sk-toggleable\"><input class=\"sk-toggleable__control sk-hidden--visually\" id=\"sk-estimator-id-5\" type=\"checkbox\" ><label for=\"sk-estimator-id-5\" class=\"sk-toggleable__label sk-toggleable__label-arrow\">StandardScaler</label><div class=\"sk-toggleable__content\"><pre>StandardScaler()</pre></div></div></div><div class=\"sk-item\"><div class=\"sk-estimator sk-toggleable\"><input class=\"sk-toggleable__control sk-hidden--visually\" id=\"sk-estimator-id-6\" type=\"checkbox\" ><label for=\"sk-estimator-id-6\" class=\"sk-toggleable__label sk-toggleable__label-arrow\">DecisionTreeRegressor</label><div class=\"sk-toggleable__content\"><pre>DecisionTreeRegressor()</pre></div></div></div></div></div></div></div>"
      ],
      "text/plain": [
       "Pipeline(steps=[('StandardScaler', StandardScaler()),\n",
       "                ('DecisionTreeRegressor', DecisionTreeRegressor())])"
      ]
     },
     "execution_count": 21,
     "metadata": {},
     "output_type": "execute_result"
    }
   ],
   "source": [
    "# fit the pipeline to our training data\n",
    "my_pipeline_standard.fit(X_train, y_train)"
   ]
  },
  {
   "cell_type": "markdown",
   "id": "bb6f508b-a829-466d-a734-8d0797203daf",
   "metadata": {},
   "source": [
    "### Cross validation and Mean absolute error"
   ]
  },
  {
   "cell_type": "code",
   "execution_count": 22,
   "id": "b8edb4a2-ad88-4598-be37-645104d8c895",
   "metadata": {},
   "outputs": [],
   "source": [
    "# cross validate using our pipeline\n",
    "#AT CV = 5\n",
    "cvs_mae = cross_val_score(my_pipeline_standard, X_train, y_train, cv=5,scoring='neg_mean_absolute_error')\n",
    "scores_cvs_mae = -1 * cvs_mae"
   ]
  },
  {
   "cell_type": "code",
   "execution_count": 23,
   "id": "cc0c7304-01be-420c-87d2-54c30dfc15f3",
   "metadata": {},
   "outputs": [
    {
     "name": "stdout",
     "output_type": "stream",
     "text": [
      "MAE scores:\n",
      " [0.75460181 0.74025335 0.75143328 0.77176519 0.72776847]\n",
      "Average MAE score: 0.7491644198149292\n"
     ]
    }
   ],
   "source": [
    "print(\"MAE scores:\\n\", scores_cvs_mae)\n",
    "print('Average MAE score:', scores_cvs_mae.mean())"
   ]
  },
  {
   "cell_type": "markdown",
   "id": "075854d1-ce77-40cf-ba5d-afb6ad688fff",
   "metadata": {},
   "source": [
    "### Mean squared error"
   ]
  },
  {
   "cell_type": "code",
   "execution_count": 24,
   "id": "d40226c9-f786-443b-a5c3-ec75b3505a72",
   "metadata": {},
   "outputs": [],
   "source": [
    "# Use cross-validation to estimate the performance of the pipeline\n",
    "#AT CV = 5\n",
    "cvs_mse = cross_val_score(my_pipeline_standard, X_train, y_train, cv=5,scoring='neg_mean_squared_error')\n",
    "scores_cvs_mse = -1 * cvs_mse"
   ]
  },
  {
   "cell_type": "code",
   "execution_count": 25,
   "id": "f79bcc7f-a319-4d02-8763-1c04badccf57",
   "metadata": {},
   "outputs": [
    {
     "name": "stdout",
     "output_type": "stream",
     "text": [
      "MSE scores:\n",
      " [1.59156736 1.63639443 1.5922945  1.59180886 1.48883178]\n",
      "Average MSE score: 1.5801793841899356\n"
     ]
    }
   ],
   "source": [
    "print(\"MSE scores:\\n\", scores_cvs_mse)\n",
    "print('Average MSE score:',scores_cvs_mse.mean())"
   ]
  },
  {
   "cell_type": "markdown",
   "id": "2ed71127-8a1e-4e4d-91ff-807df826024b",
   "metadata": {},
   "source": [
    "### Root mean squared error"
   ]
  },
  {
   "cell_type": "code",
   "execution_count": 26,
   "id": "0cc24e49-f42f-4eda-a602-250390825d0a",
   "metadata": {},
   "outputs": [],
   "source": [
    "# Use cross-validation to estimate the performance of the pipeline\n",
    "#AT CV = 5\n",
    "cvs_rmse = cross_val_score(my_pipeline_standard, X_train, y_train, cv=5,scoring='neg_root_mean_squared_error')\n",
    "scores_cvs_rmse = -1 * cvs_rmse"
   ]
  },
  {
   "cell_type": "code",
   "execution_count": 27,
   "id": "0cd452df-b1c5-4d5a-9c11-0167f5e1cad7",
   "metadata": {},
   "outputs": [
    {
     "name": "stdout",
     "output_type": "stream",
     "text": [
      "RMSE scores:\n",
      " [1.23793529 1.25352657 1.25005933 1.25090078 1.21923657]\n",
      "Average RMSE score: 1.2423317084341368\n"
     ]
    }
   ],
   "source": [
    "print(\"RMSE scores:\\n\", scores_cvs_rmse)\n",
    "print('Average RMSE score:',scores_cvs_rmse.mean())"
   ]
  },
  {
   "cell_type": "markdown",
   "id": "6a91ab6a-74a4-4971-b065-4fc7ea836eee",
   "metadata": {},
   "source": [
    "### Testing"
   ]
  },
  {
   "cell_type": "code",
   "execution_count": 28,
   "id": "e96e2d97-1298-44c2-9a9c-9d620876b55b",
   "metadata": {},
   "outputs": [],
   "source": [
    "#test prediction\n",
    "preds_test_standard = my_pipeline_standard.predict(X_test)"
   ]
  },
  {
   "cell_type": "code",
   "execution_count": 29,
   "id": "a3dd65f3-9d3e-4970-a528-6795bc08deac",
   "metadata": {},
   "outputs": [
    {
     "name": "stdout",
     "output_type": "stream",
     "text": [
      "MAE is: 0.7472489384423999\n"
     ]
    }
   ],
   "source": [
    "#MAE\n",
    "score_mae_standard = mean_absolute_error(y_test,preds_test_standard)\n",
    "print('MAE is:',score_mae_standard)"
   ]
  },
  {
   "cell_type": "code",
   "execution_count": 30,
   "id": "9766f78e-6bc4-4df3-b88a-47c8d07295a7",
   "metadata": {},
   "outputs": [
    {
     "name": "stdout",
     "output_type": "stream",
     "text": [
      "MSE is: 1.6161242698487102\n"
     ]
    }
   ],
   "source": [
    "#MSE\n",
    "score_mse_standard = mean_squared_error(y_test,preds_test_standard)\n",
    "print('MSE is:',score_mse_standard)"
   ]
  },
  {
   "cell_type": "code",
   "execution_count": 31,
   "id": "930c5a12-347f-48ab-8cd4-a0d974f98776",
   "metadata": {},
   "outputs": [
    {
     "name": "stdout",
     "output_type": "stream",
     "text": [
      "RMSE is: 1.271268763813817\n"
     ]
    }
   ],
   "source": [
    "#test rmse\n",
    "score_standard_rmse= np.sqrt(mean_squared_error(y_test,preds_test_standard))\n",
    "print('RMSE is:',score_standard_rmse)"
   ]
  },
  {
   "cell_type": "code",
   "execution_count": 32,
   "id": "06642e27-67b4-411d-a86b-e8375f5c4bbe",
   "metadata": {},
   "outputs": [
    {
     "name": "stdout",
     "output_type": "stream",
     "text": [
      "MAE scores:\n",
      " [0.74551393 0.73481615 0.73963771 0.75620593 0.72662292]\n",
      "Average MAE score: 0.7405593281232121\n"
     ]
    }
   ],
   "source": [
    "# Multiply by -1 since sklearn calculates *negative* MAE\n",
    "scores_standard_cv = -1 * cross_val_score(my_pipeline_standard, train_data, y, cv=5, scoring='neg_mean_absolute_error')\n",
    "print(\"MAE scores:\\n\", scores_standard_cv)\n",
    "print('Average MAE score:',scores_standard_cv.mean())"
   ]
  },
  {
   "cell_type": "markdown",
   "id": "cc8cbfe0-f1df-418a-a38d-30a94b414ee9",
   "metadata": {},
   "source": [
    "### DECISION TREE USING ROBUST SCALER"
   ]
  },
  {
   "cell_type": "code",
   "execution_count": 33,
   "id": "eca876f1-79af-4ea1-bdaf-a6c68072caa4",
   "metadata": {},
   "outputs": [],
   "source": [
    "# declare the steps in our pipeline\n",
    "my_pipeline_robust = Pipeline(steps = [('RobustScaler', RobustScaler()),\n",
    "                      ('DecisionTreeRegressor',DecisionTreeRegressor(random_state=42))])"
   ]
  },
  {
   "cell_type": "code",
   "execution_count": 34,
   "id": "63b7e42a-c2a5-47d2-9655-c3633d7e4525",
   "metadata": {},
   "outputs": [
    {
     "data": {
      "text/html": [
       "<style>#sk-container-id-3 {color: black;background-color: white;}#sk-container-id-3 pre{padding: 0;}#sk-container-id-3 div.sk-toggleable {background-color: white;}#sk-container-id-3 label.sk-toggleable__label {cursor: pointer;display: block;width: 100%;margin-bottom: 0;padding: 0.3em;box-sizing: border-box;text-align: center;}#sk-container-id-3 label.sk-toggleable__label-arrow:before {content: \"▸\";float: left;margin-right: 0.25em;color: #696969;}#sk-container-id-3 label.sk-toggleable__label-arrow:hover:before {color: black;}#sk-container-id-3 div.sk-estimator:hover label.sk-toggleable__label-arrow:before {color: black;}#sk-container-id-3 div.sk-toggleable__content {max-height: 0;max-width: 0;overflow: hidden;text-align: left;background-color: #f0f8ff;}#sk-container-id-3 div.sk-toggleable__content pre {margin: 0.2em;color: black;border-radius: 0.25em;background-color: #f0f8ff;}#sk-container-id-3 input.sk-toggleable__control:checked~div.sk-toggleable__content {max-height: 200px;max-width: 100%;overflow: auto;}#sk-container-id-3 input.sk-toggleable__control:checked~label.sk-toggleable__label-arrow:before {content: \"▾\";}#sk-container-id-3 div.sk-estimator input.sk-toggleable__control:checked~label.sk-toggleable__label {background-color: #d4ebff;}#sk-container-id-3 div.sk-label input.sk-toggleable__control:checked~label.sk-toggleable__label {background-color: #d4ebff;}#sk-container-id-3 input.sk-hidden--visually {border: 0;clip: rect(1px 1px 1px 1px);clip: rect(1px, 1px, 1px, 1px);height: 1px;margin: -1px;overflow: hidden;padding: 0;position: absolute;width: 1px;}#sk-container-id-3 div.sk-estimator {font-family: monospace;background-color: #f0f8ff;border: 1px dotted black;border-radius: 0.25em;box-sizing: border-box;margin-bottom: 0.5em;}#sk-container-id-3 div.sk-estimator:hover {background-color: #d4ebff;}#sk-container-id-3 div.sk-parallel-item::after {content: \"\";width: 100%;border-bottom: 1px solid gray;flex-grow: 1;}#sk-container-id-3 div.sk-label:hover label.sk-toggleable__label {background-color: #d4ebff;}#sk-container-id-3 div.sk-serial::before {content: \"\";position: absolute;border-left: 1px solid gray;box-sizing: border-box;top: 0;bottom: 0;left: 50%;z-index: 0;}#sk-container-id-3 div.sk-serial {display: flex;flex-direction: column;align-items: center;background-color: white;padding-right: 0.2em;padding-left: 0.2em;position: relative;}#sk-container-id-3 div.sk-item {position: relative;z-index: 1;}#sk-container-id-3 div.sk-parallel {display: flex;align-items: stretch;justify-content: center;background-color: white;position: relative;}#sk-container-id-3 div.sk-item::before, #sk-container-id-3 div.sk-parallel-item::before {content: \"\";position: absolute;border-left: 1px solid gray;box-sizing: border-box;top: 0;bottom: 0;left: 50%;z-index: -1;}#sk-container-id-3 div.sk-parallel-item {display: flex;flex-direction: column;z-index: 1;position: relative;background-color: white;}#sk-container-id-3 div.sk-parallel-item:first-child::after {align-self: flex-end;width: 50%;}#sk-container-id-3 div.sk-parallel-item:last-child::after {align-self: flex-start;width: 50%;}#sk-container-id-3 div.sk-parallel-item:only-child::after {width: 0;}#sk-container-id-3 div.sk-dashed-wrapped {border: 1px dashed gray;margin: 0 0.4em 0.5em 0.4em;box-sizing: border-box;padding-bottom: 0.4em;background-color: white;}#sk-container-id-3 div.sk-label label {font-family: monospace;font-weight: bold;display: inline-block;line-height: 1.2em;}#sk-container-id-3 div.sk-label-container {text-align: center;}#sk-container-id-3 div.sk-container {/* jupyter's `normalize.less` sets `[hidden] { display: none; }` but bootstrap.min.css set `[hidden] { display: none !important; }` so we also need the `!important` here to be able to override the default hidden behavior on the sphinx rendered scikit-learn.org. See: https://github.com/scikit-learn/scikit-learn/issues/21755 */display: inline-block !important;position: relative;}#sk-container-id-3 div.sk-text-repr-fallback {display: none;}</style><div id=\"sk-container-id-3\" class=\"sk-top-container\"><div class=\"sk-text-repr-fallback\"><pre>Pipeline(steps=[(&#x27;RobustScaler&#x27;, RobustScaler()),\n",
       "                (&#x27;DecisionTreeRegressor&#x27;,\n",
       "                 DecisionTreeRegressor(random_state=42))])</pre><b>In a Jupyter environment, please rerun this cell to show the HTML representation or trust the notebook. <br />On GitHub, the HTML representation is unable to render, please try loading this page with nbviewer.org.</b></div><div class=\"sk-container\" hidden><div class=\"sk-item sk-dashed-wrapped\"><div class=\"sk-label-container\"><div class=\"sk-label sk-toggleable\"><input class=\"sk-toggleable__control sk-hidden--visually\" id=\"sk-estimator-id-7\" type=\"checkbox\" ><label for=\"sk-estimator-id-7\" class=\"sk-toggleable__label sk-toggleable__label-arrow\">Pipeline</label><div class=\"sk-toggleable__content\"><pre>Pipeline(steps=[(&#x27;RobustScaler&#x27;, RobustScaler()),\n",
       "                (&#x27;DecisionTreeRegressor&#x27;,\n",
       "                 DecisionTreeRegressor(random_state=42))])</pre></div></div></div><div class=\"sk-serial\"><div class=\"sk-item\"><div class=\"sk-estimator sk-toggleable\"><input class=\"sk-toggleable__control sk-hidden--visually\" id=\"sk-estimator-id-8\" type=\"checkbox\" ><label for=\"sk-estimator-id-8\" class=\"sk-toggleable__label sk-toggleable__label-arrow\">RobustScaler</label><div class=\"sk-toggleable__content\"><pre>RobustScaler()</pre></div></div></div><div class=\"sk-item\"><div class=\"sk-estimator sk-toggleable\"><input class=\"sk-toggleable__control sk-hidden--visually\" id=\"sk-estimator-id-9\" type=\"checkbox\" ><label for=\"sk-estimator-id-9\" class=\"sk-toggleable__label sk-toggleable__label-arrow\">DecisionTreeRegressor</label><div class=\"sk-toggleable__content\"><pre>DecisionTreeRegressor(random_state=42)</pre></div></div></div></div></div></div></div>"
      ],
      "text/plain": [
       "Pipeline(steps=[('RobustScaler', RobustScaler()),\n",
       "                ('DecisionTreeRegressor',\n",
       "                 DecisionTreeRegressor(random_state=42))])"
      ]
     },
     "execution_count": 34,
     "metadata": {},
     "output_type": "execute_result"
    }
   ],
   "source": [
    "# fit the pipeline to our training data\n",
    "my_pipeline_robust.fit(X_train, y_train)"
   ]
  },
  {
   "cell_type": "markdown",
   "id": "1b161706-1367-4936-a800-42c445492d1f",
   "metadata": {},
   "source": [
    "### Cross validation and Mean absolute error"
   ]
  },
  {
   "cell_type": "code",
   "execution_count": 35,
   "id": "90216593-d5b1-4b99-9682-68a3f7bba798",
   "metadata": {},
   "outputs": [],
   "source": [
    "# Use cross-validation to estimate the performance of the pipeline\n",
    "cvs_mae = cross_val_score(my_pipeline_robust, X_train, y_train, cv=5,scoring='neg_mean_absolute_error')\n",
    "scores_cvs_mae = -1 * cvs_mae"
   ]
  },
  {
   "cell_type": "code",
   "execution_count": 36,
   "id": "2b130911-e374-4743-9e08-3d21c2aa682d",
   "metadata": {},
   "outputs": [
    {
     "name": "stdout",
     "output_type": "stream",
     "text": [
      "MAE scores:\n",
      " [0.75927256 0.7588373  0.75503921 0.78642334 0.73934774]\n",
      "Average MAE score: 0.7597840284064041\n"
     ]
    }
   ],
   "source": [
    "print(\"MAE scores:\\n\", scores_cvs_mae)\n",
    "print('Average MAE score:', scores_cvs_mae.mean())"
   ]
  },
  {
   "cell_type": "markdown",
   "id": "e59d995c-a719-493c-ae3f-1ad794f4acf3",
   "metadata": {},
   "source": [
    "### Mean squared error"
   ]
  },
  {
   "cell_type": "code",
   "execution_count": 37,
   "id": "dd9a8265-ba41-477f-9af7-dab32fbe5e42",
   "metadata": {},
   "outputs": [],
   "source": [
    "# Use cross-validation to estimate the performance of the pipeline\n",
    "cvs_mse = cross_val_score(my_pipeline_robust, X_train, y_train, cv=5,scoring='neg_mean_squared_error')\n",
    "scores_cvs_mse = -1 * cvs_mse"
   ]
  },
  {
   "cell_type": "code",
   "execution_count": 38,
   "id": "20b24509-c360-4ae6-a4fc-1b0583529267",
   "metadata": {},
   "outputs": [
    {
     "name": "stdout",
     "output_type": "stream",
     "text": [
      "MSE scores:\n",
      " [1.55989048 1.6600326  1.60274779 1.60978703 1.54737019]\n",
      "Average MSE score: 1.5959656189785238\n"
     ]
    }
   ],
   "source": [
    "print(\"MSE scores:\\n\", scores_cvs_mse)\n",
    "print('Average MSE score:',scores_cvs_mse.mean())"
   ]
  },
  {
   "cell_type": "markdown",
   "id": "b5e9f3c9-0365-4c17-ab0f-6b36f4253caf",
   "metadata": {},
   "source": [
    "### Root mean squared error"
   ]
  },
  {
   "cell_type": "code",
   "execution_count": 39,
   "id": "b324d77e-6b54-495a-bd69-4f658e2b2d80",
   "metadata": {},
   "outputs": [],
   "source": [
    "cvs_rmse = cross_val_score(my_pipeline_robust, X_train, y_train, cv=5,scoring='neg_root_mean_squared_error')\n",
    "scores_cvs_rmse = -1 * cvs_rmse"
   ]
  },
  {
   "cell_type": "code",
   "execution_count": 40,
   "id": "a0256f2b-a75f-414a-ac8f-8969140a7306",
   "metadata": {},
   "outputs": [
    {
     "name": "stdout",
     "output_type": "stream",
     "text": [
      "RMSE scores:\n",
      " [1.24895576 1.28842252 1.26599676 1.26877383 1.24393335]\n",
      "Average RMSE score: 1.263216444555662\n"
     ]
    }
   ],
   "source": [
    "print(\"RMSE scores:\\n\", scores_cvs_rmse)\n",
    "print('Average RMSE score:',scores_cvs_rmse.mean())"
   ]
  },
  {
   "cell_type": "markdown",
   "id": "9659b941-e086-439e-a137-eb506cddeb24",
   "metadata": {},
   "source": [
    "### Testing"
   ]
  },
  {
   "cell_type": "code",
   "execution_count": 41,
   "id": "c91de31f-273f-4844-96cd-400ee60c4e5d",
   "metadata": {},
   "outputs": [],
   "source": [
    "#test prediction\n",
    "preds_test_robust = my_pipeline_robust.predict(X_test)"
   ]
  },
  {
   "cell_type": "code",
   "execution_count": 42,
   "id": "e964b3ba-1879-4058-a60e-ae26d2b8ae9c",
   "metadata": {},
   "outputs": [
    {
     "name": "stdout",
     "output_type": "stream",
     "text": [
      "MAE is: 0.7427134839074657\n"
     ]
    }
   ],
   "source": [
    "#test mae\n",
    "score_robust_mae = mean_absolute_error(y_test,preds_test_robust)\n",
    "print('MAE is:',score_robust_mae)"
   ]
  },
  {
   "cell_type": "code",
   "execution_count": 43,
   "id": "21a919ab-c5a9-4db5-94e7-da988dfd5afa",
   "metadata": {},
   "outputs": [
    {
     "name": "stdout",
     "output_type": "stream",
     "text": [
      "MSE is: 1.5522754135678147\n"
     ]
    }
   ],
   "source": [
    "#test mae\n",
    "score_robust_mse = mean_squared_error(y_test,preds_test_robust)\n",
    "print('MSE is:',score_robust_mse)"
   ]
  },
  {
   "cell_type": "code",
   "execution_count": 44,
   "id": "4162eb87-6b52-4fff-9ba7-86a378489415",
   "metadata": {},
   "outputs": [
    {
     "name": "stdout",
     "output_type": "stream",
     "text": [
      "RMSE is: 1.2459034527473687\n"
     ]
    }
   ],
   "source": [
    "#test rmse\n",
    "score_robust_rmse= np.sqrt(mean_squared_error(y_test,preds_test_robust))\n",
    "print('RMSE is:',score_robust_rmse)"
   ]
  },
  {
   "cell_type": "code",
   "execution_count": 45,
   "id": "5d665a7a-a93f-479b-86f0-a1ea602ffc68",
   "metadata": {},
   "outputs": [
    {
     "name": "stdout",
     "output_type": "stream",
     "text": [
      "MAE scores:\n",
      " [0.76347756 0.73598252 0.73514687 0.76242631 0.74097767]\n"
     ]
    }
   ],
   "source": [
    "# Multiply by -1 since sklearn calculates *negative* MAE\n",
    "scores_robust_cv = -1 * cross_val_score(my_pipeline_robust, train_data, y,cv=5,scoring='neg_mean_absolute_error')\n",
    "print(\"MAE scores:\\n\", scores_robust_cv)"
   ]
  },
  {
   "cell_type": "code",
   "execution_count": 46,
   "id": "f82abd47-db2c-4ea0-adf8-ff2c916caac8",
   "metadata": {},
   "outputs": [
    {
     "name": "stdout",
     "output_type": "stream",
     "text": [
      "Average MAE score: 0.7476021825176635\n"
     ]
    }
   ],
   "source": [
    "print('Average MAE score:',scores_robust_cv.mean())"
   ]
  }
 ],
 "metadata": {
  "kernelspec": {
   "display_name": "Python 3 (ipykernel)",
   "language": "python",
   "name": "python3"
  },
  "language_info": {
   "codemirror_mode": {
    "name": "ipython",
    "version": 3
   },
   "file_extension": ".py",
   "mimetype": "text/x-python",
   "name": "python",
   "nbconvert_exporter": "python",
   "pygments_lexer": "ipython3",
   "version": "3.9.12"
  }
 },
 "nbformat": 4,
 "nbformat_minor": 5
}
